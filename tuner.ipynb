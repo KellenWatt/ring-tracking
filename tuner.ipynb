{
 "cells": [
  {
   "cell_type": "code",
   "execution_count": 1,
   "id": "c2c89dcf-ba58-4237-b67b-64545839300e",
   "metadata": {},
   "outputs": [],
   "source": [
    "import cv2 as cv\n",
    "from pathlib import Path\n",
    "import matplotlib.pyplot as plt\n",
    "import numpy as np\n",
    "\n",
    "import ipywidgets as widgets\n",
    "from typing import Optional\n",
    "\n",
    "import detector.detect as detect\n",
    "\n",
    "%matplotlib inline\n",
    "\n",
    "images_root = Path.cwd()/\"test-images\"\n",
    "frames_root = images_root/\"video-frames\""
   ]
  },
  {
   "cell_type": "code",
   "execution_count": 2,
   "id": "206392ba-237c-4cb9-91ad-35b12b75c7ed",
   "metadata": {},
   "outputs": [],
   "source": [
    "video = cv.VideoCapture((images_root/\"ring-video.mp4\").as_posix())\n",
    "\n",
    "frames = []\n",
    "while video.isOpened():\n",
    "    ok, frame = video.read()\n",
    "    if not ok:\n",
    "        break\n",
    "    frame = cv.resize(frame, None, fx = 0.5, fy=0.5)\n",
    "    frame = cv.cvtColor(frame, cv.COLOR_BGR2HLS_FULL)\n",
    "    frames.append(frame)\n",
    "\n",
    "video.release()"
   ]
  },
  {
   "cell_type": "code",
   "execution_count": 3,
   "id": "70c9a974-aaea-4b44-9d6d-8c9e5cd20600",
   "metadata": {},
   "outputs": [],
   "source": [
    "def change_format(image, conversion):\n",
    "    return cv.cvtColor(image, conversion)\n",
    "\n",
    "def show_filtered(frame_id, hue, sat, light):\n",
    "    frame = frames[frame_id]\n",
    "    lower = np.array([hue[0], light[0], sat[0]])\n",
    "    upper = np.array([hue[1], light[1], sat[1]])\n",
    "    image = detect.filter_image(frame, lower, upper)\n",
    "    plt.imshow(change_format(image, cv.COLOR_HLS2RGB_FULL))\n",
    "\n",
    "def show_original(frame_id):\n",
    "    frame = frames[frame_id]\n",
    "    image = change_format(frame, cv.COLOR_HLS2RGB_FULL)\n",
    "    plt.imshow(image)\n",
    "\n",
    "def show_match(frame_id, hue, sat, light):\n",
    "    frame = frames[frame_id]\n",
    "    lower = np.array([hue[0], light[0], sat[0]])\n",
    "    upper = np.array([hue[1], light[1], sat[1]])\n",
    "    matches = detect.ring(frame, lower, upper)\n",
    "    output = change_format(frame, cv.COLOR_HLS2RGB_FULL)\n",
    "    for m in matches:\n",
    "        output = m.show(output, line_weight=2)\n",
    "    plt.imshow(output)"
   ]
  },
  {
   "cell_type": "code",
   "execution_count": 4,
   "id": "a5ddccde-782a-4943-8a36-916d6558a2f7",
   "metadata": {},
   "outputs": [
    {
     "data": {
      "application/vnd.jupyter.widget-view+json": {
       "model_id": "ccce7be5a1e5493d88ca7d3215b123b2",
       "version_major": 2,
       "version_minor": 0
      },
      "text/plain": [
       "VBox(children=(HBox(children=(VBox(children=(IntSlider(value=0, description='Frame', max=119), IntRangeSlider(…"
      ]
     },
     "execution_count": 4,
     "metadata": {},
     "output_type": "execute_result"
    }
   ],
   "source": [
    "frame_selector = widgets.IntSlider(description=\"Frame\", min=0, max=len(frames)-1, step=1)\n",
    "\n",
    "hue = widgets.IntRangeSlider(description=\"Hue\", min=0, max=255, value=[7,32])\n",
    "sat = widgets.IntRangeSlider(description=\"Saturation\", min=0, max=255, value=[149,255])\n",
    "light = widgets.IntRangeSlider(description=\"Lightness\", min=0, max=255, value=[85,216])\n",
    "sliders = widgets.VBox([frame_selector, hue, light, sat])\n",
    "prev = widgets.Button(description=\"prev\")\n",
    "def prev_frame(_button):\n",
    "    frame_selector.value = frame_selector.value - 1\n",
    "prev.on_click(prev_frame)\n",
    "next = widgets.Button(description=\"next\")\n",
    "def next_frame(_button):\n",
    "    frame_selector.value = frame_selector.value + 1\n",
    "next.on_click(next_frame)\n",
    "\n",
    "filtered = widgets.interactive_output(show_filtered, {\n",
    "    \"frame_id\": frame_selector,\n",
    "    \"hue\": hue,\n",
    "    \"light\": light,\n",
    "    \"sat\": sat,\n",
    "})\n",
    "original = widgets.interactive_output(show_original, {\n",
    "    \"frame_id\": frame_selector,\n",
    "})\n",
    "matched = widgets.interactive_output(show_match, {\n",
    "    \"frame_id\": frame_selector,\n",
    "    \"hue\": hue, #firm [7,32]\n",
    "    \"light\": light, #[85,216]\n",
    "    \"sat\": sat, #[149,255]\n",
    "})\n",
    "widgets.VBox([widgets.HBox([sliders, prev, next]), widgets.HBox([original, filtered]), matched])"
   ]
  },
  {
   "cell_type": "code",
   "execution_count": null,
   "id": "aa3ebef0-f890-4235-b17f-7575da1f31f5",
   "metadata": {},
   "outputs": [],
   "source": []
  }
 ],
 "metadata": {
  "kernelspec": {
   "display_name": "Python 3 (ipykernel)",
   "language": "python",
   "name": "python3"
  },
  "language_info": {
   "codemirror_mode": {
    "name": "ipython",
    "version": 3
   },
   "file_extension": ".py",
   "mimetype": "text/x-python",
   "name": "python",
   "nbconvert_exporter": "python",
   "pygments_lexer": "ipython3",
   "version": "3.11.6"
  }
 },
 "nbformat": 4,
 "nbformat_minor": 5
}
